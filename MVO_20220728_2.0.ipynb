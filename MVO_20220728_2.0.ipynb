{
 "cells": [
  {
   "cell_type": "markdown",
   "metadata": {},
   "source": [
    "封装算法包：\n",
    "\n",
    "get_maxs_weight\n",
    "\n",
    "get_mvar_weight\n",
    "\n",
    "get_target_risk_weight\n",
    "\n",
    "get_target_return_weight\n",
    "\n",
    "get_target_averse_weight\n",
    "\n",
    "plot_efficent_frontier"
   ]
  },
  {
   "cell_type": "markdown",
   "metadata": {},
   "source": [
    "2022-07-28新增:\n",
    "\n",
    "get_maxs_weight、get_mvar_weight、get_target_risk_weight、get_target_return_weight、get_target_averse_weight、plot_efficent_frontier增加返回值\n",
    "\n",
    "get_target_risk_weight、get_target_return_weight 增加返回值条件\n",
    "\n",
    "\n"
   ]
  },
  {
   "cell_type": "code",
   "execution_count": 54,
   "metadata": {},
   "outputs": [],
   "source": [
    "%matplotlib inline\n",
    "import pandas as pd\n",
    "import numpy as np\n",
    "import matplotlib.pyplot as plt\n",
    "import scipy.optimize as sco\n",
    "import scipy.interpolate as sci\n",
    "import pyodbc"
   ]
  },
  {
   "cell_type": "code",
   "execution_count": 55,
   "metadata": {},
   "outputs": [],
   "source": [
    "def get_return(df):\n",
    "    # 计算收益率（对数形式）\n",
    "    df = df/df.iloc[0]*100 # 统一缩放到100为基点\n",
    "    log_ret = np.log(df/df.shift())\n",
    "    log_ret.dropna(inplace=True)\n",
    "    stock_number = log_ret.shape[1]\n",
    "    return log_ret,stock_number\n",
    "\n"
   ]
  },
  {
   "cell_type": "code",
   "execution_count": null,
   "metadata": {},
   "outputs": [],
   "source": []
  },
  {
   "cell_type": "code",
   "execution_count": 56,
   "metadata": {},
   "outputs": [],
   "source": [
    "def statistics(weights,expected_return,ret_cov,rf):\n",
    "    '''\n",
    "    本次计算，期望收益率均使用历史平均收益率\n",
    "    '''\n",
    "    weights = np.array(weights)\n",
    "    pret = np.sum(expected_return * weights*252) \n",
    "    pvol = np.sqrt(np.dot(weights.T, np.dot(ret_cov*252 , weights)))\n",
    "    return np.array([pret, pvol, (pret-rf) / pvol])\n"
   ]
  },
  {
   "cell_type": "code",
   "execution_count": 57,
   "metadata": {},
   "outputs": [],
   "source": [
    "def min_func_sharpe(weights,expected_return,ret_cov,rf):\n",
    "    return -statistics(weights,expected_return,ret_cov,rf)[2]\n",
    "def min_func_variance(weights,expected_return,ret_cov,rf):\n",
    "    return statistics(weights,expected_return,ret_cov,rf)[1] ** 2\n",
    "def min_func_return(weights,expected_return,ret_cov,rf):\n",
    "    return -statistics(weights,expected_return,ret_cov,rf)[0]\n",
    "def risk_averse(weights,expected_return,ret_cov,rf,lamb):\n",
    "    return -statistics(weights,expected_return,ret_cov,rf)[0]+lamb*statistics(weights,expected_return,ret_cov,rf)[1]**2"
   ]
  },
  {
   "cell_type": "code",
   "execution_count": 124,
   "metadata": {},
   "outputs": [],
   "source": [
    "'''\n",
    "增加返回值：statistics(opt['x'],expected_return,ret_cov,rf\n",
    "'''\n",
    "def get_maxs_weight(df,bnds,rf):\n",
    "    log_ret,stock_number=get_return(df)\n",
    "    expected_return=log_ret.mean()\n",
    "    ret_cov=log_ret.cov()\n",
    "    cons = ({'type': 'eq', 'fun': lambda x:  np.sum(x) - 1})\n",
    "    bnds = bnds\n",
    "    fun=min_func_sharpe\n",
    "    opt = sco.minimize(fun,x0=stock_number * [1. / stock_number,],args=(expected_return,ret_cov,rf), method='SLSQP',\n",
    "                   bounds=bnds, constraints=cons)\n",
    "    return opt['x'],statistics(opt['x'],expected_return,ret_cov,rf)"
   ]
  },
  {
   "cell_type": "code",
   "execution_count": 125,
   "metadata": {},
   "outputs": [],
   "source": [
    "'''\n",
    "增加返回值：statistics(opt['x'],expected_return,ret_cov,rf\n",
    "'''\n",
    "def get_mvar_weight(df,bnds,rf=0):\n",
    "    log_ret,stock_number=get_return(df)\n",
    "    expected_return=log_ret.mean()\n",
    "    ret_cov=log_ret.cov()\n",
    "    cons = ({'type': 'eq', 'fun': lambda x:  np.sum(x) - 1})\n",
    "    bnds = bnds\n",
    "    fun=min_func_variance\n",
    "    opt = sco.minimize(fun,x0=stock_number * [1. / stock_number,],args=(expected_return,ret_cov,rf), method='SLSQP',\n",
    "                   bounds=bnds, constraints=cons)\n",
    "    return opt['x'],statistics(opt['x'],expected_return,ret_cov,rf)"
   ]
  },
  {
   "cell_type": "code",
   "execution_count": 126,
   "metadata": {},
   "outputs": [],
   "source": [
    "'''\n",
    "增加返回值：statistics(opt['x'],expected_return,ret_cov,rf)\n",
    "增加返回条件：与目标值不可偏差超过0.01\n",
    "'''\n",
    "def get_target_risk_weight(df,bnds,target_risk,rf=0):\n",
    "    log_ret,stock_number=get_return(df)\n",
    "    expected_return=log_ret.mean()\n",
    "    ret_cov=log_ret.cov()\n",
    "    cons = ({'type': 'ineq', 'fun': lambda x:  -statistics(x,expected_return,ret_cov,rf)[1] + target_risk},\n",
    "            {'type': 'eq', 'fun': lambda x:  np.sum(x) - 1})\n",
    "    bnds = bnds\n",
    "    fun=min_func_return\n",
    "    opt = sco.minimize(fun,x0=stock_number * [1. / stock_number,],args=(expected_return,ret_cov,rf), method='SLSQP',\n",
    "                   bounds=bnds, constraints=cons)\n",
    "    #--------------------20220728修改\n",
    "    if abs(statistics(opt['x'],expected_return,ret_cov,rf)[1]-target_risk)>0.001:\n",
    "        print('无法找到最优解')\n",
    "    else:\n",
    "        return opt['x'],statistics(opt['x'],expected_return,ret_cov,rf)\n",
    "    #--------------------\n",
    "    "
   ]
  },
  {
   "cell_type": "code",
   "execution_count": 127,
   "metadata": {},
   "outputs": [],
   "source": [
    "'''\n",
    "增加返回值：statistics(opt['x'],expected_return,ret_cov,rf)\n",
    "增加返回条件：与目标值不可偏差超过0.01\n",
    "'''\n",
    "def get_target_return_weight(df,bnds,target_return,rf=0):\n",
    "    log_ret,stock_number=get_return(df)\n",
    "    expected_return=log_ret.mean()\n",
    "    ret_cov=log_ret.cov()\n",
    "    cons = ({'type': 'ineq', 'fun': lambda x:  statistics(x,expected_return,ret_cov,rf)[0] - target_return},\n",
    "            {'type': 'eq', 'fun': lambda x:  np.sum(x) - 1})\n",
    "    bnds = bnds\n",
    "    opt = sco.minimize(min_func_variance, stock_number * [1. / stock_number,],args=(expected_return,ret_cov,rf), method='SLSQP',\n",
    "                           bounds=bnds, constraints=cons)\n",
    "    #--------------------20220728修改\n",
    "    if abs(statistics(opt['x'],expected_return,ret_cov,rf)[0]-target_return)>0.001:\n",
    "        print('无法找到最优解')\n",
    "    else:\n",
    "        return opt['x'],statistics(opt['x'],expected_return,ret_cov,rf)\n",
    "    #------------------------\n",
    "   "
   ]
  },
  {
   "cell_type": "code",
   "execution_count": 173,
   "metadata": {},
   "outputs": [],
   "source": [
    "'''\n",
    "增加返回值：statistics(opt['x'],expected_return,ret_cov,rf),-risk_averse(opt['x'],expected_return,ret_cov,rf,lamb)\n",
    "'''\n",
    "def get_target_averse_weight(df,bnds,lamb,rf=0):\n",
    "    log_ret,stock_number=get_return(df)\n",
    "    expected_return=log_ret.mean()\n",
    "    ret_cov=log_ret.cov()\n",
    "    cons = ({'type': 'eq', 'fun': lambda x:  np.sum(x) - 1})\n",
    "    bnds = bnds\n",
    "    opt = sco.minimize(risk_averse, stock_number * [1. / stock_number,],args=(expected_return,ret_cov,rf,lamb), method='SLSQP',\n",
    "                           bounds=bnds, constraints=cons)\n",
    "    \n",
    " \n",
    "    return opt['x'],statistics(opt['x'],expected_return,ret_cov,rf),-risk_averse(opt['x'],expected_return,ret_cov,rf,lamb)\n",
    "    \n",
    "   \n",
    "    \n",
    "   "
   ]
  },
  {
   "cell_type": "code",
   "execution_count": 174,
   "metadata": {},
   "outputs": [],
   "source": [
    "'''\n",
    "有效边界中增加返回值：每个点对应的res['x']\n",
    "'''\n",
    "def min_func_port(weights,expected_return,ret_cov,rf):\n",
    "    return statistics(weights,expected_return,ret_cov,rf)[1]\n",
    "\n",
    "def plot_efficent_frontier(df,bnds,rf=0):\n",
    "    log_ret,stock_number=get_return(df)\n",
    "    expected_return=log_ret.mean()\n",
    "    ret_cov=log_ret.cov()\n",
    "   # prets,pvols=get_distribution(log_ret)\n",
    "    ret_min=min(log_ret.mean()*252)\n",
    "  \n",
    "    ret_max=max(log_ret.mean()*252)\n",
    "\n",
    "    trets = np.linspace(ret_min,ret_max,50)\n",
    "    tvols = []\n",
    "    stats=[]\n",
    "    for tret in trets:\n",
    "        cons = ({'type': 'eq', 'fun': lambda x:  statistics(x,expected_return,ret_cov,rf)[0] - tret},\n",
    "                {'type': 'eq', 'fun': lambda x:  np.sum(x) - 1})\n",
    "        bnds = bnds\n",
    "        res = sco.minimize(min_func_port, x0=stock_number * [1. / stock_number,],args=(expected_return,ret_cov,rf), method='SLSQP',\n",
    "                           bounds=bnds, constraints=cons)\n",
    "        \n",
    "        tvols.append(res['fun'])\n",
    "       #----------------20220728新增\n",
    "        stats.append(res['x'])\n",
    "        #--------------------------\n",
    "    tvols = np.array(tvols)\n",
    "    ind = np.argmin(tvols)\n",
    "    \n",
    "    evols = tvols[ind:]  # 有效边界\n",
    "    erets = trets[ind:]  # 有效边界\n",
    "    #tck = sci.splrep(evols, erets)  # 有效边界插值\n",
    "    plt.scatter(evols, erets,marker='x')\n",
    "\n",
    "                # efficient frontier\n",
    "    plt.grid(True)\n",
    "   # plt.axhline(0, color='k', ls='--', lw=2.0)\n",
    "  #  plt.axvline(0, color='k', ls='--', lw=2.0)\n",
    "    plt.xlabel('expected volatility')\n",
    "    plt.ylabel('expected return')\n",
    "     #----------------20220728新增stats[ind:]\n",
    "    return evols,erets,stats[ind:]\n",
    "    \n",
    "  \n",
    "\n"
   ]
  },
  {
   "cell_type": "markdown",
   "metadata": {},
   "source": [
    "------------测试样例，不用封装"
   ]
  },
  {
   "cell_type": "code",
   "execution_count": 186,
   "metadata": {},
   "outputs": [],
   "source": [
    "def read_data(BeginDate,EndDate):\n",
    "    sql_conn = pyodbc.connect('DRIVER={SQL Server Native Client 11.0};SERVER=10.101.0.213; DATABASE=JYDB;UID=design_read;PWD=Hello@design') \n",
    "    dfQuery='''\n",
    "    select a.TradingDay,a.ClosePrice HS300,c.ClosePrice CYBZ from QT_IndexQuote  a  \n",
    "    join QT_IndexQuote c on  a.TradingDay=c.TradingDay\n",
    "    where a.InnerCode=3145  and c.InnerCode=39144 and a.TradingDay between '{}' and '{}'\n",
    "\n",
    "    '''.format(pd.to_datetime(BeginDate),pd.to_datetime(EndDate))\n",
    "    df=pd.read_sql(dfQuery,sql_conn,index_col='TradingDay')\n",
    "    return df\n"
   ]
  },
  {
   "cell_type": "code",
   "execution_count": 187,
   "metadata": {},
   "outputs": [],
   "source": [
    "BeginDate='2020-1-1'\n",
    "EndDate='2021-12-31'\n",
    "df=read_data(BeginDate,EndDate)\n",
    "bnds = tuple((0, 1) for _ in range(df.shape[1]))"
   ]
  },
  {
   "cell_type": "code",
   "execution_count": null,
   "metadata": {},
   "outputs": [],
   "source": []
  },
  {
   "cell_type": "code",
   "execution_count": 188,
   "metadata": {},
   "outputs": [
    {
     "name": "stdout",
     "output_type": "stream",
     "text": [
      "优化目标1：最大夏普: (array([0.50759072, 0.49240928]), array([0.17826131, 0.35621483, 0.50043204]))\n",
      "优化目标2：最小波动率: (array([0.9941306, 0.0058694]), array([0.15415615, 0.33125675, 0.46536757]))\n",
      "无法找到最优解\n",
      "优化目标3：给定波动率，最大化收益率: None\n",
      "无法找到最优解\n",
      "优化目标4：给定收益，最小化波动率: None\n",
      "优化目标5：给定风险厌恶系数: (array([0., 1.]), array([0.20340942, 0.42586911, 0.47763367]), 0.2034094248594693)\n"
     ]
    }
   ],
   "source": [
    "#优化目标1：最大夏普\n",
    "rf=0\n",
    "print(\"优化目标1：最大夏普:\",get_maxs_weight(df,bnds,rf))\n",
    "#优化目标2：最小波动率\n",
    "print(\"优化目标2：最小波动率:\",get_mvar_weight(df,bnds))\n",
    "#优化目标3：给定波动率，最大化收益率\n",
    "target_risk=0.1\n",
    "print(\"优化目标3：给定波动率，最大化收益率:\",get_target_risk_weight(df,bnds,target_risk))\n",
    "#优化目标4：给定收益，最小化波动率\n",
    "target_return=0.4\n",
    "print(\"优化目标4：给定收益，最小化波动率:\",get_target_return_weight(df,bnds,target_return))\n",
    "#优化目标5：给定风险厌恶系数\n",
    "lamb=0\n",
    "print(\"优化目标5：给定风险厌恶系数:\",get_target_averse_weight(df,bnds,lamb))"
   ]
  },
  {
   "cell_type": "code",
   "execution_count": 189,
   "metadata": {},
   "outputs": [
    {
     "data": {
      "text/plain": [
       "(array([0.33126052, 0.33127987, 0.33139034, 0.33159182, 0.33188414,\n",
       "        0.33226708, 0.33274032, 0.33330347, 0.33395608, 0.33469762,\n",
       "        0.3355275 , 0.33644508, 0.33744964, 0.33854039, 0.33971652,\n",
       "        0.34097714, 0.34232131, 0.34374805, 0.34525635, 0.34684513,\n",
       "        0.3485133 , 0.35025971, 0.35208322, 0.35398263, 0.35595671,\n",
       "        0.35800424, 0.36012396, 0.36231461, 0.36457491, 0.36690356,\n",
       "        0.36929929, 0.37176078, 0.37428675, 0.37687589, 0.37952692,\n",
       "        0.38223854, 0.38500947, 0.38783846, 0.39072422, 0.39366552,\n",
       "        0.39666112, 0.3997098 , 0.40281035, 0.40596158, 0.40916233,\n",
       "        0.41241144, 0.41570778, 0.41905023, 0.4224377 , 0.42586911]),\n",
       " array([0.15386536, 0.15487646, 0.15588756, 0.15689867, 0.15790977,\n",
       "        0.15892087, 0.15993198, 0.16094308, 0.16195418, 0.16296529,\n",
       "        0.16397639, 0.16498749, 0.1659986 , 0.1670097 , 0.1680208 ,\n",
       "        0.16903191, 0.17004301, 0.17105411, 0.17206522, 0.17307632,\n",
       "        0.17408742, 0.17509853, 0.17610963, 0.17712073, 0.17813184,\n",
       "        0.17914294, 0.18015405, 0.18116515, 0.18217625, 0.18318736,\n",
       "        0.18419846, 0.18520956, 0.18622067, 0.18723177, 0.18824287,\n",
       "        0.18925398, 0.19026508, 0.19127618, 0.19228729, 0.19329839,\n",
       "        0.19430949, 0.1953206 , 0.1963317 , 0.1973428 , 0.19835391,\n",
       "        0.19936501, 0.20037611, 0.20138722, 0.20239832, 0.20340942]),\n",
       " [array([9.99999998e-01, 1.86946214e-09]),\n",
       "  array([0.97959183, 0.02040817]),\n",
       "  array([0.95918367, 0.04081633]),\n",
       "  array([0.93877551, 0.06122449]),\n",
       "  array([0.91836735, 0.08163265]),\n",
       "  array([0.89795918, 0.10204082]),\n",
       "  array([0.87755102, 0.12244898]),\n",
       "  array([0.85714286, 0.14285714]),\n",
       "  array([0.83673469, 0.16326531]),\n",
       "  array([0.81632653, 0.18367347]),\n",
       "  array([0.79591837, 0.20408163]),\n",
       "  array([0.7755102, 0.2244898]),\n",
       "  array([0.75510204, 0.24489796]),\n",
       "  array([0.73469388, 0.26530612]),\n",
       "  array([0.71428571, 0.28571429]),\n",
       "  array([0.69387755, 0.30612245]),\n",
       "  array([0.67346939, 0.32653061]),\n",
       "  array([0.65306122, 0.34693878]),\n",
       "  array([0.63265306, 0.36734694]),\n",
       "  array([0.6122449, 0.3877551]),\n",
       "  array([0.59183673, 0.40816327]),\n",
       "  array([0.57142857, 0.42857143]),\n",
       "  array([0.55102041, 0.44897959]),\n",
       "  array([0.53061224, 0.46938776]),\n",
       "  array([0.51020408, 0.48979592]),\n",
       "  array([0.48979592, 0.51020408]),\n",
       "  array([0.46938776, 0.53061224]),\n",
       "  array([0.44897959, 0.55102041]),\n",
       "  array([0.42857143, 0.57142857]),\n",
       "  array([0.40816327, 0.59183673]),\n",
       "  array([0.3877551, 0.6122449]),\n",
       "  array([0.36734694, 0.63265306]),\n",
       "  array([0.34693878, 0.65306122]),\n",
       "  array([0.32653061, 0.67346939]),\n",
       "  array([0.30612245, 0.69387755]),\n",
       "  array([0.28571429, 0.71428571]),\n",
       "  array([0.26530612, 0.73469388]),\n",
       "  array([0.24489796, 0.75510204]),\n",
       "  array([0.2244898, 0.7755102]),\n",
       "  array([0.20408163, 0.79591837]),\n",
       "  array([0.18367347, 0.81632653]),\n",
       "  array([0.16326531, 0.83673469]),\n",
       "  array([0.14285714, 0.85714286]),\n",
       "  array([0.12244898, 0.87755102]),\n",
       "  array([0.10204082, 0.89795918]),\n",
       "  array([0.08163265, 0.91836735]),\n",
       "  array([0.06122449, 0.93877551]),\n",
       "  array([0.04081633, 0.95918367]),\n",
       "  array([0.02040817, 0.97959183]),\n",
       "  array([1.86946214e-09, 9.99999998e-01])])"
      ]
     },
     "execution_count": 189,
     "metadata": {},
     "output_type": "execute_result"
    },
    {
     "data": {
      "image/png": "[encoded data removed]",
      "text/plain": [
       "<Figure size 432x288 with 1 Axes>"
      ]
     },
     "metadata": {
      "needs_background": "light"
     },
     "output_type": "display_data"
    }
   ],
   "source": [
    "plot_efficent_frontier(df,bnds)"
   ]
  },
  {
   "cell_type": "code",
   "execution_count": 190,
   "metadata": {},
   "outputs": [],
   "source": [
    "BeginDate='2021-1-31'\n",
    "EndDate='2022-3-31'\n",
    "df=read_data(BeginDate,EndDate)\n",
    "bnds = tuple((0, 1) for _ in range(df.shape[1]))"
   ]
  },
  {
   "cell_type": "code",
   "execution_count": 191,
   "metadata": {},
   "outputs": [
    {
     "name": "stdout",
     "output_type": "stream",
     "text": [
      "优化目标1：最大夏普: (array([0., 1.]), array([0.1242343 , 0.30385967, 0.37594428]))\n",
      "优化目标2：最小波动率: (array([0.69589834, 0.30410166]), array([-0.0743859 ,  0.28116526, -0.26456292]))\n",
      "无法找到最优解\n",
      "优化目标3：给定波动率，最大化收益率: None\n",
      "优化目标4：给定收益，最小化波动率: (array([0.43527517, 0.56472483]), array([-1.79679882e-11,  2.84457568e-01, -6.31657943e-11]))\n",
      "优化目标5：给定风险厌恶系数: (array([0., 1.]), array([0.1242343 , 0.30385967, 0.4088542 ]), 0.15193351046406942)\n"
     ]
    }
   ],
   "source": [
    "#优化目标1：最大夏普\n",
    "rf=0.01\n",
    "print(\"优化目标1：最大夏普:\",get_maxs_weight(df,bnds,rf))\n",
    "#优化目标2：最小波动率\n",
    "print(\"优化目标2：最小波动率:\",get_mvar_weight(df,bnds))\n",
    "#优化目标3：给定波动率，最大化收益率\n",
    "target_risk=0.24\n",
    "print(\"优化目标3：给定波动率，最大化收益率:\",get_target_risk_weight(df,bnds,target_risk))\n",
    "#优化目标4：给定收益，最小化波动率\n",
    "target_return=0\n",
    "print(\"优化目标4：给定收益，最小化波动率:\",get_target_return_weight(df,bnds,target_return))\n",
    "#优化目标5：给定风险厌恶系数\n",
    "lamb=-0.3\n",
    "print(\"优化目标5：给定风险厌恶系数:\",get_target_averse_weight(df,bnds,lamb))"
   ]
  },
  {
   "cell_type": "code",
   "execution_count": 192,
   "metadata": {},
   "outputs": [
    {
     "data": {
      "text/plain": [
       "(array([0.28116546, 0.28118978, 0.28125471, 0.2813602 , 0.28150623,\n",
       "        0.28169271, 0.28191958, 0.28218673, 0.28249405, 0.28284141,\n",
       "        0.28322867, 0.28365565, 0.28412218, 0.28462807, 0.28517311,\n",
       "        0.28575706, 0.2863797 , 0.28704077, 0.28774001, 0.28847714,\n",
       "        0.28925187, 0.2900639 , 0.29091291, 0.29179859, 0.2927206 ,\n",
       "        0.29367859, 0.29467223, 0.29570114, 0.29676496, 0.29786332,\n",
       "        0.29899584, 0.30016213, 0.30136179, 0.30259444, 0.30385967]),\n",
       " array([-0.07380914, -0.06798433, -0.06215952, -0.05633472, -0.05050991,\n",
       "        -0.0446851 , -0.0388603 , -0.03303549, -0.02721068, -0.02138588,\n",
       "        -0.01556107, -0.00973626, -0.00391145,  0.00191335,  0.00773816,\n",
       "         0.01356297,  0.01938777,  0.02521258,  0.03103739,  0.0368622 ,\n",
       "         0.042687  ,  0.04851181,  0.05433662,  0.06016142,  0.06598623,\n",
       "         0.07181104,  0.07763585,  0.08346065,  0.08928546,  0.09511027,\n",
       "         0.10093507,  0.10675988,  0.11258469,  0.11840949,  0.1242343 ]),\n",
       " [array([0.69387755, 0.30612245]),\n",
       "  array([0.67346939, 0.32653061]),\n",
       "  array([0.65306122, 0.34693878]),\n",
       "  array([0.63265306, 0.36734694]),\n",
       "  array([0.6122449, 0.3877551]),\n",
       "  array([0.59183673, 0.40816327]),\n",
       "  array([0.57142857, 0.42857143]),\n",
       "  array([0.55102041, 0.44897959]),\n",
       "  array([0.53061224, 0.46938776]),\n",
       "  array([0.51020408, 0.48979592]),\n",
       "  array([0.48979592, 0.51020408]),\n",
       "  array([0.46938776, 0.53061224]),\n",
       "  array([0.44897959, 0.55102041]),\n",
       "  array([0.42857143, 0.57142857]),\n",
       "  array([0.40816327, 0.59183673]),\n",
       "  array([0.3877551, 0.6122449]),\n",
       "  array([0.36734694, 0.63265306]),\n",
       "  array([0.34693878, 0.65306122]),\n",
       "  array([0.32653061, 0.67346939]),\n",
       "  array([0.30612245, 0.69387755]),\n",
       "  array([0.28571429, 0.71428571]),\n",
       "  array([0.26530612, 0.73469388]),\n",
       "  array([0.24489796, 0.75510204]),\n",
       "  array([0.2244898, 0.7755102]),\n",
       "  array([0.20408163, 0.79591837]),\n",
       "  array([0.18367347, 0.81632653]),\n",
       "  array([0.16326531, 0.83673469]),\n",
       "  array([0.14285714, 0.85714286]),\n",
       "  array([0.12244898, 0.87755102]),\n",
       "  array([0.10204082, 0.89795918]),\n",
       "  array([0.08163265, 0.91836735]),\n",
       "  array([0.06122449, 0.93877551]),\n",
       "  array([0.04081632, 0.95918368]),\n",
       "  array([0.02040816, 0.97959184]),\n",
       "  array([0., 1.])])"
      ]
     },
     "execution_count": 192,
     "metadata": {},
     "output_type": "execute_result"
    },
    {
     "data": {
      "image/png": "[encoded data removed]",
      "text/plain": [
       "<Figure size 432x288 with 1 Axes>"
      ]
     },
     "metadata": {
      "needs_background": "light"
     },
     "output_type": "display_data"
    }
   ],
   "source": [
    "plot_efficent_frontier(df,bnds)"
   ]
  },
  {
   "cell_type": "code",
   "execution_count": 193,
   "metadata": {},
   "outputs": [],
   "source": [
    "BeginDate='2021-1-31'\n",
    "EndDate='2021-6-30'\n",
    "df=read_data(BeginDate,EndDate)\n",
    "bnds = tuple((0, 1) for _ in range(df.shape[1]))"
   ]
  },
  {
   "cell_type": "code",
   "execution_count": 194,
   "metadata": {},
   "outputs": [
    {
     "name": "stdout",
     "output_type": "stream",
     "text": [
      "优化目标1：最大夏普: (array([0., 1.]), array([0.28577557, 0.17950817, 1.59199202]))\n",
      "优化目标2：最小波动率: (array([0.30689781, 0.69310219]), array([0.16905738, 0.17271067, 0.97884737]))\n",
      "无法找到最优解\n",
      "优化目标3：给定波动率，最大化收益率: None\n",
      "无法找到最优解\n",
      "优化目标4：给定收益，最小化波动率: None\n",
      "优化目标5：给定风险厌恶系数: (array([0., 1.]), array([0.28577557, 0.17950817, 1.59199202]), 0.2535523865977972)\n"
     ]
    }
   ],
   "source": [
    "#优化目标1：最大夏普\n",
    "rf=0\n",
    "print(\"优化目标1：最大夏普:\",get_maxs_weight(df,bnds,rf))\n",
    "#优化目标2：最小波动率\n",
    "print(\"优化目标2：最小波动率:\",get_mvar_weight(df,bnds))\n",
    "#优化目标3：给定波动率，最大化收益率\n",
    "target_risk=0.2\n",
    "print(\"优化目标3：给定波动率，最大化收益率:\",get_target_risk_weight(df,bnds,target_risk))\n",
    "#优化目标4：给定收益，最小化波动率\n",
    "target_return=0.1\n",
    "print(\"优化目标4：给定收益，最小化波动率:\",get_target_return_weight(df,bnds,target_return))\n",
    "#优化目标5：给定风险厌恶系数\n",
    "lamb=1\n",
    "print(\"优化目标5：给定风险厌恶系数:\",get_target_averse_weight(df,bnds,lamb))"
   ]
  },
  {
   "cell_type": "code",
   "execution_count": 195,
   "metadata": {},
   "outputs": [
    {
     "data": {
      "text/plain": [
       "(array([0.17271071, 0.17274369, 0.17283792, 0.17299332, 0.17320971,\n",
       "        0.17348687, 0.1738245 , 0.17422226, 0.17467973, 0.17519645,\n",
       "        0.17577189, 0.17640548, 0.17709659, 0.17784456, 0.17864867,\n",
       "        0.17950817]),\n",
       " array([0.16935227, 0.17711382, 0.18487538, 0.19263693, 0.20039848,\n",
       "        0.20816004, 0.21592159, 0.22368314, 0.2314447 , 0.23920625,\n",
       "        0.2469678 , 0.25472936, 0.26249091, 0.27025246, 0.27801402,\n",
       "        0.28577557]),\n",
       " [array([0.30612245, 0.69387755]),\n",
       "  array([0.28571429, 0.71428571]),\n",
       "  array([0.26530612, 0.73469388]),\n",
       "  array([0.24489796, 0.75510204]),\n",
       "  array([0.2244898, 0.7755102]),\n",
       "  array([0.20408163, 0.79591837]),\n",
       "  array([0.18367347, 0.81632653]),\n",
       "  array([0.16326531, 0.83673469]),\n",
       "  array([0.14285714, 0.85714286]),\n",
       "  array([0.12244898, 0.87755102]),\n",
       "  array([0.10204082, 0.89795918]),\n",
       "  array([0.08163265, 0.91836735]),\n",
       "  array([0.06122449, 0.93877551]),\n",
       "  array([0.04081633, 0.95918367]),\n",
       "  array([0.02040816, 0.97959184]),\n",
       "  array([0., 1.])])"
      ]
     },
     "execution_count": 195,
     "metadata": {},
     "output_type": "execute_result"
    },
    {
     "data": {
      "image/png": "[encoded data removed]",
      "text/plain": [
       "<Figure size 432x288 with 1 Axes>"
      ]
     },
     "metadata": {
      "needs_background": "light"
     },
     "output_type": "display_data"
    }
   ],
   "source": [
    "plot_efficent_frontier(df,bnds)"
   ]
  },
  {
   "cell_type": "code",
   "execution_count": null,
   "metadata": {},
   "outputs": [],
   "source": []
  },
  {
   "cell_type": "code",
   "execution_count": null,
   "metadata": {},
   "outputs": [],
   "source": []
  },
  {
   "cell_type": "code",
   "execution_count": null,
   "metadata": {},
   "outputs": [],
   "source": []
  }
 ],
 "metadata": {
  "kernelspec": {
   "display_name": "Python 3",
   "language": "python",
   "name": "python3"
  },
  "language_info": {
   "codemirror_mode": {
    "name": "ipython",
    "version": 3
   },
   "file_extension": ".py",
   "mimetype": "text/x-python",
   "name": "python",
   "nbconvert_exporter": "python",
   "pygments_lexer": "ipython3",
   "version": "3.8.3"
  }
 },
 "nbformat": 4,
 "nbformat_minor": 4
}
