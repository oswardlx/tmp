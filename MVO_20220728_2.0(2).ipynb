{
 "cells": [
  {
   "cell_type": "markdown",
   "metadata": {},
   "source": [
    "封装算法包：\n",
    "\n",
    "get_maxs_weight\n",
    "\n",
    "get_mvar_weight\n",
    "\n",
    "get_target_risk_weight\n",
    "\n",
    "get_target_return_weight\n",
    "\n",
    "get_target_averse_weight\n",
    "\n",
    "plot_efficent_frontier"
   ]
  },
  {
   "cell_type": "markdown",
   "metadata": {},
   "source": [
    "2022-07-28新增:\n",
    "\n",
    "get_maxs_weight、get_mvar_weight、get_target_risk_weight、get_target_return_weight、get_target_averse_weight、plot_efficent_frontier增加返回值\n",
    "\n",
    "get_target_risk_weight、get_target_return_weight 增加返回值条件\n",
    "\n",
    "\n"
   ]
  },
  {
   "cell_type": "code",
   "execution_count": 1,
   "metadata": {},
   "outputs": [],
   "source": [
    "%matplotlib inline\n",
    "import pandas as pd\n",
    "import numpy as np\n",
    "import matplotlib.pyplot as plt\n",
    "import scipy.optimize as sco\n",
    "import scipy.interpolate as sci\n",
    "import pyodbc"
   ]
  },
  {
   "cell_type": "code",
   "execution_count": 2,
   "metadata": {},
   "outputs": [],
   "source": [
    "def get_return(df):\n",
    "    # 计算收益率（对数形式）\n",
    "    df = df/df.iloc[0]*100 # 统一缩放到100为基点\n",
    "    log_ret = np.log(df/df.shift())\n",
    "    log_ret.dropna(inplace=True)\n",
    "    stock_number = log_ret.shape[1]\n",
    "    return log_ret,stock_number\n",
    "\n"
   ]
  },
  {
   "cell_type": "code",
   "execution_count": null,
   "metadata": {},
   "outputs": [],
   "source": []
  },
  {
   "cell_type": "code",
   "execution_count": 3,
   "metadata": {},
   "outputs": [],
   "source": [
    "def statistics(weights,expected_return,ret_cov,rf):\n",
    "    '''\n",
    "    本次计算，期望收益率均使用历史平均收益率\n",
    "    '''\n",
    "    weights = np.array(weights)\n",
    "    pret = np.sum(expected_return * weights*252) \n",
    "    pvol = np.sqrt(np.dot(weights.T, np.dot(ret_cov*252 , weights)))\n",
    "    return np.array([pret, pvol, (pret-rf) / pvol])\n"
   ]
  },
  {
   "cell_type": "code",
   "execution_count": 4,
   "metadata": {},
   "outputs": [],
   "source": [
    "def min_func_sharpe(weights,expected_return,ret_cov,rf):\n",
    "    return -statistics(weights,expected_return,ret_cov,rf)[2]\n",
    "def min_func_variance(weights,expected_return,ret_cov,rf):\n",
    "    return statistics(weights,expected_return,ret_cov,rf)[1] ** 2\n",
    "def min_func_return(weights,expected_return,ret_cov,rf):\n",
    "    return -statistics(weights,expected_return,ret_cov,rf)[0]\n",
    "def risk_averse(weights,expected_return,ret_cov,rf,lamb):\n",
    "    return -statistics(weights,expected_return,ret_cov,rf)[0]+lamb*statistics(weights,expected_return,ret_cov,rf)[1]**2"
   ]
  },
  {
   "cell_type": "code",
   "execution_count": 5,
   "metadata": {},
   "outputs": [],
   "source": [
    "'''\n",
    "增加返回值：statistics(opt['x'],expected_return,ret_cov,rf\n",
    "'''\n",
    "def get_maxs_weight(df,bnds,rf):\n",
    "    log_ret,stock_number=get_return(df)\n",
    "    expected_return=log_ret.mean()\n",
    "    ret_cov=log_ret.cov()\n",
    "    cons = ({'type': 'eq', 'fun': lambda x:  np.sum(x) - 1})\n",
    "    bnds = bnds\n",
    "    fun=min_func_sharpe\n",
    "    opt = sco.minimize(fun,x0=stock_number * [1. / stock_number,],args=(expected_return,ret_cov,rf), method='SLSQP',\n",
    "                   bounds=bnds, constraints=cons)\n",
    "    return opt['x'],statistics(opt['x'],expected_return,ret_cov,rf)"
   ]
  },
  {
   "cell_type": "code",
   "execution_count": 6,
   "metadata": {},
   "outputs": [],
   "source": [
    "'''\n",
    "增加返回值：statistics(opt['x'],expected_return,ret_cov,rf\n",
    "'''\n",
    "def get_mvar_weight(df,bnds,rf=0):\n",
    "    log_ret,stock_number=get_return(df)\n",
    "    expected_return=log_ret.mean()\n",
    "    ret_cov=log_ret.cov()\n",
    "    cons = ({'type': 'eq', 'fun': lambda x:  np.sum(x) - 1})\n",
    "    bnds = bnds\n",
    "    fun=min_func_variance\n",
    "    opt = sco.minimize(fun,x0=stock_number * [1. / stock_number,],args=(expected_return,ret_cov,rf), method='SLSQP',\n",
    "                   bounds=bnds, constraints=cons)\n",
    "    return opt['x'],statistics(opt['x'],expected_return,ret_cov,rf)"
   ]
  },
  {
   "cell_type": "code",
   "execution_count": 7,
   "metadata": {},
   "outputs": [],
   "source": [
    "'''\n",
    "增加返回值：statistics(opt['x'],expected_return,ret_cov,rf)\n",
    "增加返回条件：与目标值不可偏差超过1E-8\n",
    "'''\n",
    "def get_target_risk_weight(df,bnds,target_risk,rf=0):\n",
    "    log_ret,stock_number=get_return(df)\n",
    "    expected_return=log_ret.mean()\n",
    "    ret_cov=log_ret.cov()\n",
    "    cons = ({'type': 'eq', 'fun': lambda x:  -statistics(x,expected_return,ret_cov,rf)[1] + target_risk},\n",
    "            {'type': 'eq', 'fun': lambda x:  np.sum(x) - 1})\n",
    "    bnds = bnds\n",
    "    fun=min_func_return\n",
    "    opt = sco.minimize(fun,x0=stock_number * [1. / stock_number,],args=(expected_return,ret_cov,rf), method='SLSQP',\n",
    "                   bounds=bnds, constraints=cons)\n",
    "    #--------------------20220728修改\n",
    "    if abs(statistics(opt['x'],expected_return,ret_cov,rf)[1]-target_risk)>1e-8:\n",
    "        print('无法找到最优解')\n",
    "    else:\n",
    "        return opt['x'],statistics(opt['x'],expected_return,ret_cov,rf)\n",
    "    #--------------------\n",
    "    "
   ]
  },
  {
   "cell_type": "code",
   "execution_count": 8,
   "metadata": {},
   "outputs": [],
   "source": [
    "'''\n",
    "增加返回值：statistics(opt['x'],expected_return,ret_cov,rf)\n",
    "增加返回条件：与目标值不可偏差超过1E-8\n",
    "'''\n",
    "def get_target_return_weight(df,bnds,target_return,rf=0):\n",
    "    log_ret,stock_number=get_return(df)\n",
    "    expected_return=log_ret.mean()\n",
    "    ret_cov=log_ret.cov()\n",
    "    cons = ({'type': 'eq', 'fun': lambda x:  statistics(x,expected_return,ret_cov,rf)[0] - target_return},\n",
    "            {'type': 'eq', 'fun': lambda x:  np.sum(x) - 1})\n",
    "    bnds = bnds\n",
    "    opt = sco.minimize(min_func_variance, stock_number * [1. / stock_number,],args=(expected_return,ret_cov,rf), method='SLSQP',\n",
    "                           bounds=bnds, constraints=cons,tol=0.001)\n",
    "    #--------------------20220728修改\n",
    "    if abs(statistics(opt['x'],expected_return,ret_cov,rf)[0]-target_return)>1e-8:\n",
    "        print('无法找到最优解')\n",
    "    else:\n",
    "        return opt['x'],statistics(opt['x'],expected_return,ret_cov,rf)\n",
    "    #------------------------\n",
    "   "
   ]
  },
  {
   "cell_type": "code",
   "execution_count": 9,
   "metadata": {},
   "outputs": [],
   "source": [
    "'''\n",
    "增加返回值：statistics(opt['x'],expected_return,ret_cov,rf),-risk_averse(opt['x'],expected_return,ret_cov,rf,lamb)\n",
    "'''\n",
    "def get_target_averse_weight(df,bnds,lamb,rf=0):\n",
    "    log_ret,stock_number=get_return(df)\n",
    "    expected_return=log_ret.mean()\n",
    "    ret_cov=log_ret.cov()\n",
    "    cons = ({'type': 'eq', 'fun': lambda x:  np.sum(x) - 1})\n",
    "    bnds = bnds\n",
    "    opt = sco.minimize(risk_averse, stock_number * [1. / stock_number,],args=(expected_return,ret_cov,rf,lamb), method='SLSQP',\n",
    "                           bounds=bnds, constraints=cons)\n",
    "    \n",
    " \n",
    "    return opt['x'],statistics(opt['x'],expected_return,ret_cov,rf),-risk_averse(opt['x'],expected_return,ret_cov,rf,lamb)\n",
    "    \n",
    "   \n",
    "    \n",
    "   "
   ]
  },
  {
   "cell_type": "code",
   "execution_count": 10,
   "metadata": {},
   "outputs": [],
   "source": [
    "'''\n",
    "有效边界中增加返回值：每个点对应的res['x']\n",
    "'''\n",
    "def min_func_port(weights,expected_return,ret_cov,rf):\n",
    "    return statistics(weights,expected_return,ret_cov,rf)[1]\n",
    "\n",
    "def plot_efficent_frontier(df,bnds,rf=0):\n",
    "    log_ret,stock_number=get_return(df)\n",
    "    expected_return=log_ret.mean()\n",
    "    ret_cov=log_ret.cov()\n",
    "   # prets,pvols=get_distribution(log_ret)\n",
    "    ret_min=min(log_ret.mean()*252)\n",
    "  \n",
    "    ret_max=max(log_ret.mean()*252)\n",
    "\n",
    "    trets = np.linspace(ret_min,ret_max,50)\n",
    "    tvols = []\n",
    "    stats=[]\n",
    "    for tret in trets:\n",
    "        cons = ({'type': 'eq', 'fun': lambda x:  statistics(x,expected_return,ret_cov,rf)[0] - tret},\n",
    "                {'type': 'eq', 'fun': lambda x:  np.sum(x) - 1})\n",
    "        bnds = bnds\n",
    "        res = sco.minimize(min_func_port, x0=stock_number * [1. / stock_number,],args=(expected_return,ret_cov,rf), method='SLSQP',\n",
    "                           bounds=bnds, constraints=cons)\n",
    "        \n",
    "       # print(statistics(res['x'],expected_return,ret_cov,rf)[0]-tret)\n",
    "        if abs(statistics(res['x'],expected_return,ret_cov,rf)[0]-tret)>1e-8:\n",
    "            \n",
    "            return\n",
    "          \n",
    "        tvols.append(res['fun'])\n",
    "       #----------------20220728新增\n",
    "        stats.append(res['x'])\n",
    "        \n",
    "        #--------------------------\n",
    "    tvols = np.array(tvols)\n",
    "    ind = np.argmin(tvols)\n",
    "    #if len(tvols)==len(trets):\n",
    "    evols = tvols[ind:]  # 有效边界\n",
    "    erets = trets[ind:]  # 有效边界\n",
    "    #tck = sci.splrep(evols, erets)  # 有效边界插值\n",
    "    plt.scatter(evols, erets,marker='x')\n",
    "\n",
    "                # efficient frontier\n",
    "    plt.grid(True)\n",
    "   # plt.axhline(0, color='k', ls='--', lw=2.0)\n",
    "  #  plt.axvline(0, color='k', ls='--', lw=2.0)\n",
    "    plt.xlabel('expected volatility')\n",
    "    plt.ylabel('expected return')\n",
    "     #----------------20220728新增stats[ind:]\n",
    "\n",
    "    return evols,erets,stats[ind:]\n",
    "    \n",
    "  \n",
    "\n"
   ]
  },
  {
   "cell_type": "markdown",
   "metadata": {},
   "source": [
    "------------测试样例，不用封装"
   ]
  },
  {
   "cell_type": "code",
   "execution_count": 12,
   "metadata": {},
   "outputs": [],
   "source": [
    "def read_data(BeginDate,EndDate):\n",
    "    sql_conn = pyodbc.connect('''DRIVER={SQL Server Native Client 11.0};SERVER=10.101.0.213; DATABASE=JYDB;Trusted_Connection=yes''') \n",
    "\n",
    "    dfQuery='''\n",
    "    select a.TradingDay,a.ClosePrice HS300,c.ClosePrice CYBZ from QT_IndexQuote  a  \n",
    "    join QT_IndexQuote c on  a.TradingDay=c.TradingDay\n",
    "    where a.InnerCode=3145  and c.InnerCode=16899 and a.TradingDay between '{}' and '{}'\n",
    "\n",
    "    '''.format(pd.to_datetime(BeginDate),pd.to_datetime(EndDate))\n",
    "    df=pd.read_sql(dfQuery,sql_conn,index_col='TradingDay')\n",
    "    return df\n"
   ]
  },
  {
   "cell_type": "code",
   "execution_count": 13,
   "metadata": {},
   "outputs": [],
   "source": [
    "BeginDate='2021-7-18'\n",
    "EndDate='2021-8-18'\n",
    "df=read_data(BeginDate,EndDate)\n",
    "bnds = tuple((0, 1) for _ in range(df.shape[1]))"
   ]
  },
  {
   "cell_type": "code",
   "execution_count": null,
   "metadata": {},
   "outputs": [],
   "source": []
  },
  {
   "cell_type": "code",
   "execution_count": 87,
   "metadata": {},
   "outputs": [
    {
     "name": "stdout",
     "output_type": "stream",
     "text": [
      "优化目标1：最大夏普: (array([0.4, 0.6]), array([0.0239082 , 0.34450105, 0.06939948]))\n",
      "优化目标2：最小波动率: (array([0.5, 0.5]), array([0.02086964, 0.34352463, 0.06075151]))\n",
      "无法找到最优解\n",
      "优化目标3：给定波动率，最大化收益率: None\n",
      "无法找到最优解\n",
      "优化目标4：给定收益，最小化波动率: None\n",
      "优化目标5：给定风险厌恶系数: (array([0.4, 0.6]), array([0.0239082 , 0.34450105, 0.06939948]), 0.023908195538995043)\n"
     ]
    }
   ],
   "source": [
    "#优化目标1：最大夏普\n",
    "rf=0\n",
    "print(\"优化目标1：最大夏普:\",get_maxs_weight(df,bnds,rf))\n",
    "#优化目标2：最小波动率\n",
    "print(\"优化目标2：最小波动率:\",get_mvar_weight(df,bnds))\n",
    "#优化目标3：给定波动率，最大化收益率\n",
    "target_risk=0.1\n",
    "print(\"优化目标3：给定波动率，最大化收益率:\",get_target_risk_weight(df,bnds,target_risk))\n",
    "#优化目标4：给定收益，最小化波动率\n",
    "target_return=0.4\n",
    "print(\"优化目标4：给定收益，最小化波动率:\",get_target_return_weight(df,bnds,target_return))\n",
    "#优化目标5：给定风险厌恶系数\n",
    "lamb=0\n",
    "print(\"优化目标5：给定风险厌恶系数:\",get_target_averse_weight(df,bnds,lamb))"
   ]
  },
  {
   "cell_type": "code",
   "execution_count": 14,
   "metadata": {},
   "outputs": [
    {
     "data": {
      "text/plain": [
       "(array([0.22004111, 0.22011007, 0.22028028, 0.22055152, 0.22092341,\n",
       "        0.22139545, 0.22196699, 0.22263726, 0.22340539, 0.22427036,\n",
       "        0.22523105, 0.22628626, 0.22743466, 0.22867485, 0.23000534,\n",
       "        0.23142458, 0.23293095, 0.23452276, 0.23619829, 0.23795578,\n",
       "        0.23979341, 0.24170935, 0.24370178, 0.24576881, 0.2479086 ,\n",
       "        0.25011926, 0.25239894, 0.25474578, 0.25715795, 0.25963363,\n",
       "        0.26217101]),\n",
       " array([-0.19705967, -0.18101081, -0.16496195, -0.14891309, -0.13286423,\n",
       "        -0.11681537, -0.10076651, -0.08471765, -0.06866879, -0.05261993,\n",
       "        -0.03657107, -0.02052221, -0.00447335,  0.01157551,  0.02762437,\n",
       "         0.04367322,  0.05972208,  0.07577094,  0.0918198 ,  0.10786866,\n",
       "         0.12391752,  0.13996638,  0.15601524,  0.1720641 ,  0.18811296,\n",
       "         0.20416182,  0.22021068,  0.23625954,  0.2523084 ,  0.26835726,\n",
       "         0.28440612]),\n",
       " [array([0.6122449, 0.3877551]),\n",
       "  array([0.59183673, 0.40816327]),\n",
       "  array([0.57142857, 0.42857143]),\n",
       "  array([0.55102041, 0.44897959]),\n",
       "  array([0.53061224, 0.46938776]),\n",
       "  array([0.51020408, 0.48979592]),\n",
       "  array([0.48979592, 0.51020408]),\n",
       "  array([0.46938776, 0.53061224]),\n",
       "  array([0.44897959, 0.55102041]),\n",
       "  array([0.42857143, 0.57142857]),\n",
       "  array([0.40816327, 0.59183673]),\n",
       "  array([0.3877551, 0.6122449]),\n",
       "  array([0.36734694, 0.63265306]),\n",
       "  array([0.34693878, 0.65306122]),\n",
       "  array([0.32653061, 0.67346939]),\n",
       "  array([0.30612245, 0.69387755]),\n",
       "  array([0.28571429, 0.71428571]),\n",
       "  array([0.26530612, 0.73469388]),\n",
       "  array([0.24489796, 0.75510204]),\n",
       "  array([0.2244898, 0.7755102]),\n",
       "  array([0.20408163, 0.79591837]),\n",
       "  array([0.18367347, 0.81632653]),\n",
       "  array([0.16326531, 0.83673469]),\n",
       "  array([0.14285714, 0.85714286]),\n",
       "  array([0.12244898, 0.87755102]),\n",
       "  array([0.10204082, 0.89795918]),\n",
       "  array([0.08163265, 0.91836735]),\n",
       "  array([0.06122449, 0.93877551]),\n",
       "  array([0.04081633, 0.95918367]),\n",
       "  array([0.02040816, 0.97959184]),\n",
       "  array([1.49353541e-09, 9.99999999e-01])])"
      ]
     },
     "execution_count": 14,
     "metadata": {},
     "output_type": "execute_result"
    },
    {
     "data": {
      "image/png": "[encoded data removed]",
      "text/plain": [
       "<Figure size 432x288 with 1 Axes>"
      ]
     },
     "metadata": {
      "needs_background": "light"
     },
     "output_type": "display_data"
    }
   ],
   "source": [
    "plot_efficent_frontier(df,bnds)"
   ]
  },
  {
   "cell_type": "code",
   "execution_count": 89,
   "metadata": {},
   "outputs": [],
   "source": [
    "BeginDate='2021-1-31'\n",
    "EndDate='2022-3-31'\n",
    "df=read_data(BeginDate,EndDate)\n",
    "bnds = tuple((0, 1) for _ in range(df.shape[1]))"
   ]
  },
  {
   "cell_type": "code",
   "execution_count": 90,
   "metadata": {},
   "outputs": [
    {
     "name": "stdout",
     "output_type": "stream",
     "text": [
      "优化目标1：最大夏普: (array([0., 1.]), array([0.0754586 , 0.31468711, 0.2080117 ]))\n",
      "优化目标2：最小波动率: (array([0.77987655, 0.22012345]), array([-0.15355264,  0.27451542, -0.5593589 ]))\n",
      "无法找到最优解\n",
      "优化目标3：给定波动率，最大化收益率: None\n",
      "优化目标4：给定收益，最小化波动率: (array([0.25696726, 0.74303274]), array([9.33058700e-11, 2.93257218e-01, 3.18170754e-10]))\n",
      "优化目标5：给定风险厌恶系数: (array([0., 1.]), array([0.0754586 , 0.31468711, 0.23978929]), 0.10516699310365826)\n"
     ]
    }
   ],
   "source": [
    "#优化目标1：最大夏普\n",
    "rf=0.01\n",
    "print(\"优化目标1：最大夏普:\",get_maxs_weight(df,bnds,rf))\n",
    "#优化目标2：最小波动率\n",
    "print(\"优化目标2：最小波动率:\",get_mvar_weight(df,bnds))\n",
    "#优化目标3：给定波动率，最大化收益率\n",
    "target_risk=0.24\n",
    "print(\"优化目标3：给定波动率，最大化收益率:\",get_target_risk_weight(df,bnds,target_risk))\n",
    "#优化目标4：给定收益，最小化波动率\n",
    "target_return=0\n",
    "print(\"优化目标4：给定收益，最小化波动率:\",get_target_return_weight(df,bnds,target_return))\n",
    "#优化目标5：给定风险厌恶系数\n",
    "lamb=-0.3\n",
    "print(\"优化目标5：给定风险厌恶系数:\",get_target_averse_weight(df,bnds,lamb))"
   ]
  },
  {
   "cell_type": "code",
   "execution_count": 91,
   "metadata": {},
   "outputs": [
    {
     "data": {
      "text/plain": [
       "(array([0.27451677, 0.27455892, 0.27466009, 0.2748202 , 0.27503915,\n",
       "        0.27531681, 0.275653  , 0.2760475 , 0.27650006, 0.2770104 ,\n",
       "        0.2775782 , 0.27820311, 0.27888474, 0.27962268, 0.28041649,\n",
       "        0.28126569, 0.28216978, 0.28312824, 0.28414051, 0.28520602,\n",
       "        0.28632419, 0.28749439, 0.28871598, 0.28998833, 0.29131077,\n",
       "        0.29268262, 0.29410318, 0.29557175, 0.29708763, 0.29865009,\n",
       "        0.3002584 , 0.30191184, 0.30360966, 0.30535112, 0.30713549,\n",
       "        0.30896201, 0.31082995, 0.31273856, 0.31468711]),\n",
       " array([-0.15227046, -0.14627759, -0.14028472, -0.13429185, -0.12829898,\n",
       "        -0.12230611, -0.11631324, -0.11032037, -0.1043275 , -0.09833463,\n",
       "        -0.09234176, -0.08634889, -0.08035602, -0.07436315, -0.06837028,\n",
       "        -0.06237741, -0.05638454, -0.05039167, -0.0443988 , -0.03840593,\n",
       "        -0.03241306, -0.02642019, -0.02042732, -0.01443445, -0.00844158,\n",
       "        -0.00244871,  0.00354416,  0.00953703,  0.0155299 ,  0.02152277,\n",
       "         0.02751564,  0.03350851,  0.03950138,  0.04549425,  0.05148712,\n",
       "         0.05747999,  0.06347286,  0.06946573,  0.0754586 ]),\n",
       " [array([0.7755102, 0.2244898]),\n",
       "  array([0.75510204, 0.24489796]),\n",
       "  array([0.73469388, 0.26530612]),\n",
       "  array([0.71428571, 0.28571429]),\n",
       "  array([0.69387755, 0.30612245]),\n",
       "  array([0.67346939, 0.32653061]),\n",
       "  array([0.65306122, 0.34693878]),\n",
       "  array([0.63265306, 0.36734694]),\n",
       "  array([0.6122449, 0.3877551]),\n",
       "  array([0.59183673, 0.40816327]),\n",
       "  array([0.57142857, 0.42857143]),\n",
       "  array([0.55102041, 0.44897959]),\n",
       "  array([0.53061224, 0.46938776]),\n",
       "  array([0.51020408, 0.48979592]),\n",
       "  array([0.48979592, 0.51020408]),\n",
       "  array([0.46938776, 0.53061224]),\n",
       "  array([0.44897959, 0.55102041]),\n",
       "  array([0.42857143, 0.57142857]),\n",
       "  array([0.40816327, 0.59183673]),\n",
       "  array([0.3877551, 0.6122449]),\n",
       "  array([0.36734694, 0.63265306]),\n",
       "  array([0.34693878, 0.65306122]),\n",
       "  array([0.32653061, 0.67346939]),\n",
       "  array([0.30612245, 0.69387755]),\n",
       "  array([0.28571429, 0.71428571]),\n",
       "  array([0.26530612, 0.73469388]),\n",
       "  array([0.24489796, 0.75510204]),\n",
       "  array([0.2244898, 0.7755102]),\n",
       "  array([0.20408163, 0.79591837]),\n",
       "  array([0.18367347, 0.81632653]),\n",
       "  array([0.16326531, 0.83673469]),\n",
       "  array([0.14285714, 0.85714286]),\n",
       "  array([0.12244898, 0.87755102]),\n",
       "  array([0.10204082, 0.89795918]),\n",
       "  array([0.08163265, 0.91836735]),\n",
       "  array([0.06122449, 0.93877551]),\n",
       "  array([0.04081633, 0.95918367]),\n",
       "  array([0.02040816, 0.97959184]),\n",
       "  array([9.32059097e-10, 9.99999999e-01])])"
      ]
     },
     "execution_count": 91,
     "metadata": {},
     "output_type": "execute_result"
    },
    {
     "data": {
      "image/png": "[encoded data removed]",
      "text/plain": [
       "<Figure size 432x288 with 1 Axes>"
      ]
     },
     "metadata": {
      "needs_background": "light"
     },
     "output_type": "display_data"
    }
   ],
   "source": [
    "plot_efficent_frontier(df,bnds)"
   ]
  },
  {
   "cell_type": "code",
   "execution_count": 92,
   "metadata": {},
   "outputs": [],
   "source": [
    "BeginDate='2021-1-31'\n",
    "EndDate='2021-6-30'\n",
    "df=read_data(BeginDate,EndDate)\n",
    "bnds = tuple((0, 1) for _ in range(df.shape[1]))"
   ]
  },
  {
   "cell_type": "code",
   "execution_count": 93,
   "metadata": {},
   "outputs": [
    {
     "name": "stdout",
     "output_type": "stream",
     "text": [
      "优化目标1：最大夏普: (array([0., 1.]), array([0.28577557, 0.17950817, 1.59199202]))\n",
      "优化目标2：最小波动率: (array([0.30689781, 0.69310219]), array([0.16905738, 0.17271067, 0.97884737]))\n",
      "优化目标3：给定波动率，最大化收益率: (array([0.93944846, 0.06055154]), array([-0.07151182,  0.2       , -0.35755909]))\n",
      "优化目标4：给定收益，最小化波动率: (array([0.48847672, 0.51152328]), array([0.1       , 0.17512022, 0.57103627]))\n",
      "优化目标5：给定风险厌恶系数: (array([0., 1.]), array([0.28577557, 0.17950817, 1.59199202]), 0.2535523865977972)\n"
     ]
    }
   ],
   "source": [
    "#优化目标1：最大夏普\n",
    "rf=0\n",
    "print(\"优化目标1：最大夏普:\",get_maxs_weight(df,bnds,rf))\n",
    "#优化目标2：最小波动率\n",
    "print(\"优化目标2：最小波动率:\",get_mvar_weight(df,bnds))\n",
    "#优化目标3：给定波动率，最大化收益率\n",
    "target_risk=0.2\n",
    "print(\"优化目标3：给定波动率，最大化收益率:\",get_target_risk_weight(df,bnds,target_risk))\n",
    "#优化目标4：给定收益，最小化波动率\n",
    "target_return=0.1\n",
    "print(\"优化目标4：给定收益，最小化波动率:\",get_target_return_weight(df,bnds,target_return))\n",
    "#优化目标5：给定风险厌恶系数\n",
    "lamb=1\n",
    "print(\"优化目标5：给定风险厌恶系数:\",get_target_averse_weight(df,bnds,lamb))"
   ]
  },
  {
   "cell_type": "code",
   "execution_count": 94,
   "metadata": {},
   "outputs": [
    {
     "data": {
      "text/plain": [
       "(array([0.17271071, 0.17274369, 0.17283792, 0.17299332, 0.17320971,\n",
       "        0.17348687, 0.1738245 , 0.17422226, 0.17467973, 0.17519645,\n",
       "        0.17577189, 0.17640548, 0.17709659, 0.17784456, 0.17864867,\n",
       "        0.17950817]),\n",
       " array([0.16935227, 0.17711382, 0.18487538, 0.19263693, 0.20039848,\n",
       "        0.20816004, 0.21592159, 0.22368314, 0.2314447 , 0.23920625,\n",
       "        0.2469678 , 0.25472936, 0.26249091, 0.27025246, 0.27801402,\n",
       "        0.28577557]),\n",
       " [array([0.30612245, 0.69387755]),\n",
       "  array([0.28571429, 0.71428571]),\n",
       "  array([0.26530612, 0.73469388]),\n",
       "  array([0.24489796, 0.75510204]),\n",
       "  array([0.2244898, 0.7755102]),\n",
       "  array([0.20408163, 0.79591837]),\n",
       "  array([0.18367347, 0.81632653]),\n",
       "  array([0.16326531, 0.83673469]),\n",
       "  array([0.14285714, 0.85714286]),\n",
       "  array([0.12244898, 0.87755102]),\n",
       "  array([0.10204082, 0.89795918]),\n",
       "  array([0.08163265, 0.91836735]),\n",
       "  array([0.06122449, 0.93877551]),\n",
       "  array([0.04081633, 0.95918367]),\n",
       "  array([0.02040816, 0.97959184]),\n",
       "  array([0., 1.])])"
      ]
     },
     "execution_count": 94,
     "metadata": {},
     "output_type": "execute_result"
    },
    {
     "data": {
      "image/png": "[encoded data removed]",
      "text/plain": [
       "<Figure size 432x288 with 1 Axes>"
      ]
     },
     "metadata": {
      "needs_background": "light"
     },
     "output_type": "display_data"
    }
   ],
   "source": [
    "plot_efficent_frontier(df,bnds)"
   ]
  },
  {
   "cell_type": "code",
   "execution_count": null,
   "metadata": {},
   "outputs": [],
   "source": []
  },
  {
   "cell_type": "code",
   "execution_count": null,
   "metadata": {},
   "outputs": [],
   "source": []
  },
  {
   "cell_type": "code",
   "execution_count": null,
   "metadata": {},
   "outputs": [],
   "source": []
  }
 ],
 "metadata": {
  "kernelspec": {
   "display_name": "Python 3",
   "language": "python",
   "name": "python3"
  },
  "language_info": {
   "codemirror_mode": {
    "name": "ipython",
    "version": 3
   },
   "file_extension": ".py",
   "mimetype": "text/x-python",
   "name": "python",
   "nbconvert_exporter": "python",
   "pygments_lexer": "ipython3",
   "version": "3.8.3"
  }
 },
 "nbformat": 4,
 "nbformat_minor": 4
}
